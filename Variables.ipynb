{
 "cells": [
  {
   "cell_type": "code",
   "execution_count": 1,
   "id": "07521bdc",
   "metadata": {},
   "outputs": [
    {
     "data": {
      "text/plain": [
       "10"
      ]
     },
     "execution_count": 1,
     "metadata": {},
     "output_type": "execute_result"
    }
   ],
   "source": [
    "x=10         ---->x is a Variable--Variable means container to store the values\n",
    "x"
   ]
  },
  {
   "cell_type": "markdown",
   "id": "1cb26a3e",
   "metadata": {},
   "source": [
    "### Rules for naming a variable"
   ]
  },
  {
   "cell_type": "code",
   "execution_count": 2,
   "id": "63e0253e",
   "metadata": {},
   "outputs": [
    {
     "ename": "SyntaxError",
     "evalue": "invalid syntax (1848066144.py, line 1)",
     "output_type": "error",
     "traceback": [
      "\u001b[1;36m  Cell \u001b[1;32mIn[2], line 1\u001b[1;36m\u001b[0m\n\u001b[1;33m    first name=\"komal\"\u001b[0m\n\u001b[1;37m          ^\u001b[0m\n\u001b[1;31mSyntaxError\u001b[0m\u001b[1;31m:\u001b[0m invalid syntax\n"
     ]
    }
   ],
   "source": [
    "first name=\"komal\"                       \n",
    "first name"
   ]
  },
  {
   "cell_type": "code",
   "execution_count": null,
   "id": "eba2d790",
   "metadata": {},
   "outputs": [],
   "source": [
    "Note:vaiable name ie first name should not have space\n",
    "    "
   ]
  },
  {
   "cell_type": "code",
   "execution_count": 4,
   "id": "56e62e7f",
   "metadata": {},
   "outputs": [
    {
     "data": {
      "text/plain": [
       "'komal'"
      ]
     },
     "execution_count": 4,
     "metadata": {},
     "output_type": "execute_result"
    }
   ],
   "source": [
    "first_name=\"komal\"\n",
    "first_name"
   ]
  },
  {
   "cell_type": "code",
   "execution_count": 5,
   "id": "e17c2d86",
   "metadata": {},
   "outputs": [
    {
     "data": {
      "text/plain": [
       "'komal'"
      ]
     },
     "execution_count": 5,
     "metadata": {},
     "output_type": "execute_result"
    }
   ],
   "source": [
    "Firstname=\"komal\"                ---->Variable name ie Firstname  can start with A-Z ,a-zFF\n",
    "Firstname"
   ]
  },
  {
   "cell_type": "code",
   "execution_count": 6,
   "id": "4690cae2",
   "metadata": {},
   "outputs": [
    {
     "ename": "SyntaxError",
     "evalue": "cannot assign to expression here. Maybe you meant '==' instead of '='? (3344972103.py, line 1)",
     "output_type": "error",
     "traceback": [
      "\u001b[1;36m  Cell \u001b[1;32mIn[6], line 1\u001b[1;36m\u001b[0m\n\u001b[1;33m    First-name=\"komal\"\u001b[0m\n\u001b[1;37m    ^\u001b[0m\n\u001b[1;31mSyntaxError\u001b[0m\u001b[1;31m:\u001b[0m cannot assign to expression here. Maybe you meant '==' instead of '='?\n"
     ]
    }
   ],
   "source": [
    "First-name=\"komal\"\n",
    "First-name"
   ]
  },
  {
   "cell_type": "code",
   "execution_count": 7,
   "id": "3e948cf7",
   "metadata": {},
   "outputs": [
    {
     "ename": "SyntaxError",
     "evalue": "cannot assign to expression here. Maybe you meant '==' instead of '='? (2831928507.py, line 1)",
     "output_type": "error",
     "traceback": [
      "\u001b[1;36m  Cell \u001b[1;32mIn[7], line 1\u001b[1;36m\u001b[0m\n\u001b[1;33m    First+name=\"komal\"\u001b[0m\n\u001b[1;37m    ^\u001b[0m\n\u001b[1;31mSyntaxError\u001b[0m\u001b[1;31m:\u001b[0m cannot assign to expression here. Maybe you meant '==' instead of '='?\n"
     ]
    }
   ],
   "source": [
    "First+name=\"komal\"\n",
    "First+name"
   ]
  },
  {
   "cell_type": "code",
   "execution_count": null,
   "id": "19b48e1b",
   "metadata": {},
   "outputs": [],
   "source": [
    "Note-Remember only special character is underscore(_) use in variable."
   ]
  },
  {
   "cell_type": "code",
   "execution_count": 9,
   "id": "0fc573e3",
   "metadata": {},
   "outputs": [
    {
     "data": {
      "text/plain": [
       "'ai'"
      ]
     },
     "execution_count": 9,
     "metadata": {},
     "output_type": "execute_result"
    }
   ],
   "source": [
    "_course=\"ai\"              ----variable name start with (_)underscore,A-Z and a-z\n",
    "_course"
   ]
  },
  {
   "cell_type": "code",
   "execution_count": 10,
   "id": "aab51e6e",
   "metadata": {},
   "outputs": [
    {
     "ename": "SyntaxError",
     "evalue": "invalid decimal literal (1745124096.py, line 1)",
     "output_type": "error",
     "traceback": [
      "\u001b[1;36m  Cell \u001b[1;32mIn[10], line 1\u001b[1;36m\u001b[0m\n\u001b[1;33m    2names=\"komal\",'kautkar'\u001b[0m\n\u001b[1;37m    ^\u001b[0m\n\u001b[1;31mSyntaxError\u001b[0m\u001b[1;31m:\u001b[0m invalid decimal literal\n"
     ]
    }
   ],
   "source": [
    "2names=\"komal\",'kautkar'\n",
    "2names"
   ]
  },
  {
   "cell_type": "code",
   "execution_count": null,
   "id": "60b3e4a7",
   "metadata": {},
   "outputs": [],
   "source": [
    "Note-variable name should not start with numbers\n"
   ]
  },
  {
   "cell_type": "code",
   "execution_count": 11,
   "id": "7d2c53b6",
   "metadata": {},
   "outputs": [
    {
     "data": {
      "text/plain": [
       "('komal', 'kautkar')"
      ]
     },
     "execution_count": 11,
     "metadata": {},
     "output_type": "execute_result"
    }
   ],
   "source": [
    "names2='komal','kautkar'\n",
    "names2"
   ]
  },
  {
   "cell_type": "code",
   "execution_count": null,
   "id": "64e77466",
   "metadata": {},
   "outputs": [],
   "source": [
    "Note-variable should not have space."
   ]
  }
 ],
 "metadata": {
  "kernelspec": {
   "display_name": "Python 3 (ipykernel)",
   "language": "python",
   "name": "python3"
  },
  "language_info": {
   "codemirror_mode": {
    "name": "ipython",
    "version": 3
   },
   "file_extension": ".py",
   "mimetype": "text/x-python",
   "name": "python",
   "nbconvert_exporter": "python",
   "pygments_lexer": "ipython3",
   "version": "3.11.5"
  }
 },
 "nbformat": 4,
 "nbformat_minor": 5
}
